{
 "cells": [
  {
   "cell_type": "code",
   "execution_count": 2,
   "id": "184d7a40-8d29-4532-bf9f-5f99d90701b6",
   "metadata": {
    "tags": []
   },
   "outputs": [],
   "source": [
    "#imports\n",
    "# !brew install argparse\n",
    "# !pip install opencv-python\n",
    "# # !pip list\n",
    "\n",
    "import argparse\n",
    "import cv2"
   ]
  },
  {
   "cell_type": "code",
   "execution_count": 5,
   "id": "b2737c13-2194-447d-b247-092ed2ba8384",
   "metadata": {},
   "outputs": [
    {
     "name": "stdout",
     "output_type": "stream",
     "text": [
      "Shape:  (300, 1024, 3)\n",
      "Shape:  (300, 1024)\n"
     ]
    }
   ],
   "source": [
    "img = cv2.imread('../images/sample_testing/39.370268924559184_20.078980550436857_sat.png').astype(float)/255\n",
    "print('Shape: ', img.shape)\n",
    "# img\n",
    "\n",
    "#grayscale\n",
    "img_g = cv2.imread('../images/sample_testing/39.370268924559184_20.078980550436857_sat.png', cv2.COLOR_BGR2GRAY)\n",
    "print('Shape: ', img_g.shape)\n",
    "# img"
   ]
  },
  {
   "cell_type": "code",
   "execution_count": 6,
   "id": "fe04af49-c35b-4613-87fd-5ec865f7e988",
   "metadata": {},
   "outputs": [
    {
     "ename": "TypeError",
     "evalue": "destroyWindow() missing required argument 'winname' (pos 1)",
     "output_type": "error",
     "traceback": [
      "\u001b[0;31m---------------------------------------------------------------------------\u001b[0m",
      "\u001b[0;31mTypeError\u001b[0m                                 Traceback (most recent call last)",
      "Cell \u001b[0;32mIn[6], line 3\u001b[0m\n\u001b[1;32m      1\u001b[0m cv2\u001b[38;5;241m.\u001b[39mimshow(\u001b[38;5;124m\"\u001b[39m\u001b[38;5;124m39.370268924559184_20.078980550436857\u001b[39m\u001b[38;5;124m\"\u001b[39m,img)\n\u001b[1;32m      2\u001b[0m cv2\u001b[38;5;241m.\u001b[39mwaitKey()\n\u001b[0;32m----> 3\u001b[0m \u001b[43mcv2\u001b[49m\u001b[38;5;241;43m.\u001b[39;49m\u001b[43mdestroyWindow\u001b[49m\u001b[43m(\u001b[49m\u001b[43m)\u001b[49m\n",
      "\u001b[0;31mTypeError\u001b[0m: destroyWindow() missing required argument 'winname' (pos 1)"
     ]
    }
   ],
   "source": [
    "cv2.imshow(\"39.370268924559184_20.078980550436857\",img)\n",
    "cv2.waitKey()"
   ]
  },
  {
   "cell_type": "code",
   "execution_count": 4,
   "id": "f0ebbdc6-1bdf-4faf-a6a4-9dfafa51e7a6",
   "metadata": {},
   "outputs": [],
   "source": [
    "cv2.imshow(\"Gray\",img_g)\n",
    "cv2.waitKey()\n",
    "cv2.destroyWindow()"
   ]
  },
  {
   "cell_type": "code",
   "execution_count": 7,
   "id": "7be6abd0-ef9e-4c40-a324-d798660120cd",
   "metadata": {},
   "outputs": [
    {
     "data": {
      "text/plain": [
       "True"
      ]
     },
     "execution_count": 7,
     "metadata": {},
     "output_type": "execute_result"
    }
   ],
   "source": [
    "#Lossless Save Output to .png\n",
    "cv2.imwrite('../images/sample_testing/GRAY39.370268924559184_20.078980550436857_sat.png', img_g, [cv2.IMWRITE_PNG_COMPRESSION, 0])"
   ]
  }
 ],
 "metadata": {
  "kernelspec": {
   "display_name": "Python 3 (ipykernel)",
   "language": "python",
   "name": "python3"
  },
  "language_info": {
   "codemirror_mode": {
    "name": "ipython",
    "version": 3
   },
   "file_extension": ".py",
   "mimetype": "text/x-python",
   "name": "python",
   "nbconvert_exporter": "python",
   "pygments_lexer": "ipython3",
   "version": "3.10.9"
  }
 },
 "nbformat": 4,
 "nbformat_minor": 5
}
