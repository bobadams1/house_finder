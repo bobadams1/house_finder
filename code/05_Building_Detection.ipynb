{
 "cells": [
  {
   "cell_type": "markdown",
   "metadata": {
    "id": "NhiupChQHjG7"
   },
   "source": [
    "## Building Detection via Mask-R CNN and Spacenet V2 Data"
   ]
  },
  {
   "cell_type": "markdown",
   "metadata": {
    "id": "lYg5l-Dh8Xds"
   },
   "source": [
    "This notebook is based on the train_shapes ipynb instructional file available on Matterport's Mask R-CNN [Github Repository](https://github.com/matterport/Mask_RCNN/blob/master/samples/shapes/train_shapes.ipynb).  The model in use has been made compatible for use with Tensorflow 2.0+ versions by Adam Kelly ([github repository](https://github.com/akTwelve/Mask_RCNN))"
   ]
  },
  {
   "cell_type": "markdown",
   "metadata": {
    "id": "g6zkNvT88f-w"
   },
   "source": [
    "The Training Data for Kartoum (downloaded from [Radiant MLHub](https://mlhub.earth/data/spacenet2)) contains 1012 aerial images and associated masks covering individual buildings.\n",
    "Images and masks have been preprocessed in 04_Training_Data"
   ]
  },
  {
   "cell_type": "code",
   "execution_count": 1,
   "metadata": {
    "colab": {
     "base_uri": "https://localhost:8080/",
     "height": 53
    },
    "id": "W06ROypAgINz",
    "outputId": "5ee793f0-fe2e-4fe6-8c6f-19b36907fdb8"
   },
   "outputs": [
    {
     "name": "stdout",
     "output_type": "stream",
     "text": [
      "Drive already mounted at /content/drive/; to attempt to forcibly remount, call drive.mount(\"/content/drive/\", force_remount=True).\n"
     ]
    },
    {
     "data": {
      "application/vnd.google.colaboratory.intrinsic+json": {
       "type": "string"
      },
      "text/plain": [
       "'/content/drive/MyDrive/house_finder/Mask_RCNN'"
      ]
     },
     "execution_count": 1,
     "metadata": {},
     "output_type": "execute_result"
    }
   ],
   "source": [
    "# Drive Working Directory\n",
    "from google.colab import drive\n",
    "drive.mount('/content/drive/')\n",
    "\n",
    "import os\n",
    "# !ls drive/MyDrive/house_finder/\n",
    "os.path.abspath('./drive/MyDrive/house_finder/Mask_RCNN/')"
   ]
  },
  {
   "cell_type": "code",
   "execution_count": 2,
   "metadata": {
    "id": "2r--mBaUh9qj"
   },
   "outputs": [],
   "source": [
    "import sys\n",
    "import random\n",
    "import math\n",
    "import re\n",
    "import time\n",
    "import numpy as np\n",
    "import cv2\n",
    "import skimage.io\n",
    "import geopandas as gpd\n",
    "import matplotlib\n",
    "import matplotlib.pyplot as plt\n",
    "from PIL import Image, ImageDraw\n",
    "\n",
    "%matplotlib inline"
   ]
  },
  {
   "cell_type": "code",
   "execution_count": 3,
   "metadata": {
    "colab": {
     "base_uri": "https://localhost:8080/"
    },
    "id": "15YpQam6PvqK",
    "outputId": "bf5691aa-0672-4b4c-9835-92e66a04d75e"
   },
   "outputs": [
    {
     "name": "stdout",
     "output_type": "stream",
     "text": [
      "Downloading pretrained model to /content/drive/MyDrive/house_finder/Mask_RCNN/mask_rcnn_coco.h5 ...\n",
      "... done downloading pretrained model!\n"
     ]
    }
   ],
   "source": [
    "# Root directory of the project\n",
    "ROOT_DIR = os.path.abspath(\"./drive/MyDrive/house_finder/Mask_RCNN/\")\n",
    "\n",
    "# Import Mask RCNN\n",
    "sys.path.append(ROOT_DIR)  # To find local version of the library\n",
    "from mrcnn.config import Config\n",
    "from mrcnn import utils\n",
    "import mrcnn.model as modellib\n",
    "from mrcnn import visualize\n",
    "from mrcnn.model import log\n",
    "\n",
    "%matplotlib inline\n",
    "\n",
    "# Directory to save logs and trained model\n",
    "MODEL_DIR = os.path.join(ROOT_DIR, \"logs/\")\n",
    "\n",
    "# Local path to trained weights file\n",
    "COCO_MODEL_PATH = os.path.join(ROOT_DIR, \"mask_rcnn_coco.h5\")\n",
    "# Download COCO trained weights from Releases if needed\n",
    "if not os.path.exists(COCO_MODEL_PATH):\n",
    "    utils.download_trained_weights(COCO_MODEL_PATH)"
   ]
  },
  {
   "cell_type": "markdown",
   "metadata": {
    "id": "rRMY9gkXjjb5"
   },
   "source": [
    "Configurations for Spacenet Data"
   ]
  },
  {
   "cell_type": "code",
   "execution_count": 4,
   "metadata": {
    "colab": {
     "base_uri": "https://localhost:8080/"
    },
    "id": "hvDauzZZjW_x",
    "outputId": "b3e9c27a-e746-490e-e2d7-bd6b03c4cd3a"
   },
   "outputs": [
    {
     "name": "stdout",
     "output_type": "stream",
     "text": [
      "\n",
      "Configurations:\n",
      "BACKBONE                       resnet50\n",
      "BACKBONE_STRIDES               [4, 8, 16, 32, 64]\n",
      "BATCH_SIZE                     8\n",
      "BBOX_STD_DEV                   [0.1 0.1 0.2 0.2]\n",
      "COMPUTE_BACKBONE_SHAPE         None\n",
      "DETECTION_MAX_INSTANCES        350\n",
      "DETECTION_MIN_CONFIDENCE       0.7\n",
      "DETECTION_NMS_THRESHOLD        0.3\n",
      "FPN_CLASSIF_FC_LAYERS_SIZE     1024\n",
      "GPU_COUNT                      1\n",
      "GRADIENT_CLIP_NORM             5.0\n",
      "IMAGES_PER_GPU                 8\n",
      "IMAGE_CHANNEL_COUNT            3\n",
      "IMAGE_MAX_DIM                  640\n",
      "IMAGE_META_SIZE                14\n",
      "IMAGE_MIN_DIM                  640\n",
      "IMAGE_MIN_SCALE                0\n",
      "IMAGE_RESIZE_MODE              square\n",
      "IMAGE_SHAPE                    [640 640   3]\n",
      "LEARNING_MOMENTUM              0.9\n",
      "LEARNING_RATE                  0.01\n",
      "LOSS_WEIGHTS                   {'rpn_class_loss': 1.0, 'rpn_bbox_loss': 1.0, 'mrcnn_class_loss': 1.0, 'mrcnn_bbox_loss': 1.0, 'mrcnn_mask_loss': 1.0}\n",
      "MASK_POOL_SIZE                 14\n",
      "MASK_SHAPE                     [28, 28]\n",
      "MAX_GT_INSTANCES               250\n",
      "MEAN_PIXEL                     [123.7 116.8 103.9]\n",
      "MINI_MASK_SHAPE                (56, 56)\n",
      "NAME                           SpaceNet\n",
      "NUM_CLASSES                    2\n",
      "POOL_SIZE                      7\n",
      "POST_NMS_ROIS_INFERENCE        1000\n",
      "POST_NMS_ROIS_TRAINING         2000\n",
      "PRE_NMS_LIMIT                  6000\n",
      "ROI_POSITIVE_RATIO             0.33\n",
      "RPN_ANCHOR_RATIOS              (0.25, 1, 4)\n",
      "RPN_ANCHOR_SCALES              (8, 16, 32, 64, 128)\n",
      "RPN_ANCHOR_STRIDE              1\n",
      "RPN_BBOX_STD_DEV               [0.1 0.1 0.2 0.2]\n",
      "RPN_NMS_THRESHOLD              0.7\n",
      "RPN_TRAIN_ANCHORS_PER_IMAGE    256\n",
      "STEPS_PER_EPOCH                200\n",
      "TOP_DOWN_PYRAMID_SIZE          256\n",
      "TRAIN_BN                       False\n",
      "TRAIN_ROIS_PER_IMAGE           35\n",
      "USE_MINI_MASK                  True\n",
      "USE_RPN_ROIS                   True\n",
      "VALIDATION_STEPS               50\n",
      "WEIGHT_DECAY                   0.0001\n",
      "\n",
      "\n"
     ]
    }
   ],
   "source": [
    "class SpaceNetConfig(Config):\n",
    "  \"\"\"\n",
    "  Configuration for training on Spacenet V2 Data.\n",
    "  Derives from the base Config Class and overrides values specific to the use case.\n",
    "  \"\"\"\n",
    "  NAME = \"SpaceNet\"\n",
    "  BACKBONE = \"resnet50\"\n",
    "  # Train on 1 GPU and 8 images per GPU.  Images here are reasonably small\n",
    "  GPU_COUNT = 1\n",
    "  IMAGES_PER_GPU = 8\n",
    "\n",
    "  # Number of Classes (including background)\n",
    "  NUM_CLASSES = 1 + 1\n",
    "  \"\"\"\n",
    "  NOTE: In an ideal workflow, multiple classes of buildings would be available for\n",
    "  detailed building categorization by roof profile.  Here the number of classes would be:\n",
    "  1 (background)\n",
    "    + (n_roof colors (ex. red, black, gray, silver, yellow)\n",
    "      *\n",
    "      (m_roof profiles (ex. flat, single peak, T, hip-val, etc.))\n",
    "  \"\"\"\n",
    "\n",
    "  # Use Small images for fater training, set limits on image size\n",
    "  IMAGE_MIN_DIM = 640\n",
    "  IMAGE_MAX_DIM = 640\n",
    "\n",
    "  # Use smaller anchors because our image and objects are small\n",
    "  RPN_ANCHOR_SCALES = (8, 16, 32, 64, 128)\n",
    "  RPN_ANCHOR_RATIOS = (0.25, 1, 4)\n",
    "\n",
    "  # Reduce training ROIs per image because the images are small and have\n",
    "  # few objects.  Aim to allow ROI sampling to pick 33% positive ROIs\n",
    "  TRAIN_ROIS_PER_IMAGE = 35\n",
    "  LEARNING_RATE = 0.01\n",
    "\n",
    "  USE_MINI_MASK = True\n",
    "\n",
    "  # Use a moderately sized epoch as our data is moderately complex.\n",
    "  STEPS_PER_EPOCH = 100\n",
    "\n",
    "  #Scale validation steps for the epoch size\n",
    "  VALIDATION_STEPS = 50\n",
    "\n",
    "  MAX_GT_INSTANCES = 250\n",
    "  DETECTION_MAX_INSTANCES = 350\n",
    "\n",
    "config = SpaceNetConfig()\n",
    "config.display()"
   ]
  },
  {
   "cell_type": "markdown",
   "metadata": {
    "id": "_kcMspiYnjyw"
   },
   "source": [
    "Notebook Preferences"
   ]
  },
  {
   "cell_type": "code",
   "execution_count": 5,
   "metadata": {
    "id": "jVFQPvI8nhg9"
   },
   "outputs": [],
   "source": [
    "def get_ax(rows = 1, cols = 1, size = 8):\n",
    "  _, ax = plt.subplots(rows, cols, figsize = (size * cols, size * rows))\n",
    "  return ax\n",
    "\n",
    "def fill_between(polygon):\n",
    "  ## returns a boolean array filling in the set polygon\n",
    "  img = Image.new('1', (650, 650), False)\n",
    "  ImageDraw.Draw(img).polygon(polygon, outline = True, fill = True)\n",
    "  mask = np.array(img)\n",
    "  return mask"
   ]
  },
  {
   "cell_type": "markdown",
   "metadata": {
    "id": "l-Tye2K8nunX"
   },
   "source": [
    "Dataset"
   ]
  },
  {
   "cell_type": "code",
   "execution_count": 6,
   "metadata": {
    "colab": {
     "base_uri": "https://localhost:8080/"
    },
    "id": "jqOJrwns3lHl",
    "outputId": "055e0e09-312d-4260-ee8e-8b44ae48db57"
   },
   "outputs": [
    {
     "name": "stdout",
     "output_type": "stream",
     "text": [
      "Requirement already satisfied: rioxarray in /usr/local/lib/python3.10/dist-packages (0.14.1)\n",
      "Requirement already satisfied: packaging in /usr/local/lib/python3.10/dist-packages (from rioxarray) (23.1)\n",
      "Requirement already satisfied: rasterio>=1.2 in /usr/local/lib/python3.10/dist-packages (from rioxarray) (1.3.8)\n",
      "Requirement already satisfied: xarray>=0.17 in /usr/local/lib/python3.10/dist-packages (from rioxarray) (2022.12.0)\n",
      "Requirement already satisfied: pyproj>=2.2 in /usr/local/lib/python3.10/dist-packages (from rioxarray) (3.6.0)\n",
      "Requirement already satisfied: numpy>=1.21 in /usr/local/lib/python3.10/dist-packages (from rioxarray) (1.22.4)\n",
      "Requirement already satisfied: certifi in /usr/local/lib/python3.10/dist-packages (from pyproj>=2.2->rioxarray) (2023.7.22)\n",
      "Requirement already satisfied: affine in /usr/local/lib/python3.10/dist-packages (from rasterio>=1.2->rioxarray) (2.4.0)\n",
      "Requirement already satisfied: attrs in /usr/local/lib/python3.10/dist-packages (from rasterio>=1.2->rioxarray) (23.1.0)\n",
      "Requirement already satisfied: click>=4.0 in /usr/local/lib/python3.10/dist-packages (from rasterio>=1.2->rioxarray) (8.1.6)\n",
      "Requirement already satisfied: cligj>=0.5 in /usr/local/lib/python3.10/dist-packages (from rasterio>=1.2->rioxarray) (0.7.2)\n",
      "Requirement already satisfied: snuggs>=1.4.1 in /usr/local/lib/python3.10/dist-packages (from rasterio>=1.2->rioxarray) (1.4.7)\n",
      "Requirement already satisfied: click-plugins in /usr/local/lib/python3.10/dist-packages (from rasterio>=1.2->rioxarray) (1.1.1)\n",
      "Requirement already satisfied: setuptools in /usr/local/lib/python3.10/dist-packages (from rasterio>=1.2->rioxarray) (67.7.2)\n",
      "Requirement already satisfied: pandas>=1.3 in /usr/local/lib/python3.10/dist-packages (from xarray>=0.17->rioxarray) (1.5.3)\n",
      "Requirement already satisfied: python-dateutil>=2.8.1 in /usr/local/lib/python3.10/dist-packages (from pandas>=1.3->xarray>=0.17->rioxarray) (2.8.2)\n",
      "Requirement already satisfied: pytz>=2020.1 in /usr/local/lib/python3.10/dist-packages (from pandas>=1.3->xarray>=0.17->rioxarray) (2022.7.1)\n",
      "Requirement already satisfied: pyparsing>=2.1.6 in /usr/local/lib/python3.10/dist-packages (from snuggs>=1.4.1->rasterio>=1.2->rioxarray) (3.1.0)\n",
      "Requirement already satisfied: six>=1.5 in /usr/local/lib/python3.10/dist-packages (from python-dateutil>=2.8.1->pandas>=1.3->xarray>=0.17->rioxarray) (1.16.0)\n",
      "Requirement already satisfied: rasterio in /usr/local/lib/python3.10/dist-packages (1.3.8)\n",
      "Requirement already satisfied: affine in /usr/local/lib/python3.10/dist-packages (from rasterio) (2.4.0)\n",
      "Requirement already satisfied: attrs in /usr/local/lib/python3.10/dist-packages (from rasterio) (23.1.0)\n",
      "Requirement already satisfied: certifi in /usr/local/lib/python3.10/dist-packages (from rasterio) (2023.7.22)\n",
      "Requirement already satisfied: click>=4.0 in /usr/local/lib/python3.10/dist-packages (from rasterio) (8.1.6)\n",
      "Requirement already satisfied: cligj>=0.5 in /usr/local/lib/python3.10/dist-packages (from rasterio) (0.7.2)\n",
      "Requirement already satisfied: numpy>=1.18 in /usr/local/lib/python3.10/dist-packages (from rasterio) (1.22.4)\n",
      "Requirement already satisfied: snuggs>=1.4.1 in /usr/local/lib/python3.10/dist-packages (from rasterio) (1.4.7)\n",
      "Requirement already satisfied: click-plugins in /usr/local/lib/python3.10/dist-packages (from rasterio) (1.1.1)\n",
      "Requirement already satisfied: setuptools in /usr/local/lib/python3.10/dist-packages (from rasterio) (67.7.2)\n",
      "Requirement already satisfied: pyparsing>=2.1.6 in /usr/local/lib/python3.10/dist-packages (from snuggs>=1.4.1->rasterio) (3.1.0)\n"
     ]
    }
   ],
   "source": [
    "!pip install rioxarray\n",
    "import rioxarray\n",
    "!pip install rasterio\n",
    "import rasterio\n",
    "import rasterio.mask\n",
    "import json"
   ]
  },
  {
   "cell_type": "code",
   "execution_count": 7,
   "metadata": {
    "id": "3wC63hn-ntzD"
   },
   "outputs": [],
   "source": [
    "# training data hosted in drive\n",
    "data_dir = './drive/MyDrive/house_finder/spacenetv2_khartoum/'\n",
    "#if run locally\n",
    "# training_dir = '.../data/training_data/spacenetv2/'\n",
    "\n",
    "class SpaceNetDataset(utils.Dataset):\n",
    "\n",
    "  def load_dataset(self, dataset_dir, start = 1, end = 1000):\n",
    "    self.add_class(\"SpaceNetDataset\", 1, \"building\")\n",
    "\n",
    "    #locate the files for training.\n",
    "    # Here files have been converted from .tif and .geojson to .png\n",
    "    images_dir = os.path.join(data_dir, 'images/')\n",
    "    annotations_dir = os.path.join(data_dir, 'labels/')\n",
    "\n",
    "    #Iterate through the files in the folder to add class, images, annotations\n",
    "    for filename in os.listdir(images_dir)[start:end]:\n",
    "      image_id = filename[3:-11] #ex. img1017PS-RGB_.png\n",
    "                                     #012    yx987654321\n",
    "      image_dir = os.path.join(images_dir, str(filename))\n",
    "      ann_path = os.path.join(annotations_dir, \"img\"+str(image_id)+\"label_.geojson\")\n",
    "      self.add_image('SpaceNetDataset' , image_id = image_id, path=image_dir, annotation = ann_path)\n",
    "\n",
    "  def load_image(self, image_id):\n",
    "    image_dir = os.path.join(data_dir, 'images/', 'img'+str(image_id)+'PS-RGB_.png')\n",
    "    im = Image.open(image_dir)\n",
    "    return np.asarray(im)\n",
    "\n",
    "  def image_reference(self, image_id):\n",
    "    info = self.image_info[image_id]\n",
    "    if info['source'] == 'shapes':\n",
    "      return info['shapes']\n",
    "    else:\n",
    "      super(self.__class__).image_reference(self, image_id)\n",
    "\n",
    "# Returns single, uniform mask - not suitable for image segmentation\n",
    "  # def load_mask(self, image_id):\n",
    "  #   mask_path = os.path.join(data_dir, 'maps', str(image_id)+'mask_.png')\n",
    "  #   mask_img = cv2.imread(mask_path, 0)\n",
    "\n",
    "  #   if mask_img.shape != (650,650):\n",
    "  #     masks = mask_img[:,:,1:]\n",
    "  #     class_ids = np.asarray([1] * masks.shape[2])\n",
    "  #   else:\n",
    "  #     class_ids = np.ones((1))\n",
    "  #     masks = mask_img.reshape((650,650,1))\n",
    "\n",
    "  #   mask_arr = np.array(masks)\n",
    "  #   return mask_arr.astype(np.bool), class_ids.astype(np.int32)\n",
    "\n",
    "\n",
    "# Cite: https://github.com/Mstfakts/Building-Detection-MaskRCNN/blob/master/SpaceNet_train.py\n",
    "# This approach requires the use of geoio - a library out of date with current versions of Python\n",
    "\n",
    "  # def load_mask(self, image_id):\n",
    "  #   \"\"\"Generate instance masks for shapes of the given image ID.\n",
    "  #   \"\"\"\n",
    "  #   masks = np.zeros((650,650))\n",
    "  #   ResimPATH = os.path.join(data_dir, 'images/', 'img'+str(image_id)+'PS-RGB_.tif')\n",
    "  #   RGBTIFResmi = geoio.GeoImage(ResimPATH)\n",
    "\n",
    "  #   annotations_dir = os.path.join(data_dir, 'labels/')\n",
    "  #   geojson_path = os.path.join(annotations_dir, \"img\"+str(image_id)+\"label_.geojson\")\n",
    "\n",
    "  #   with open(geojson_path) as f:\n",
    "  #       data = json.load(f)\n",
    "  #       allBuildings = data['features']\n",
    "\n",
    "  #       for building in allBuildings:\n",
    "  #           veri = building['geometry']['coordinates'][0]\n",
    "\n",
    "  #           tip = str(building['geometry']['type'])\n",
    "  #           coordinates = list()\n",
    "  #           if tip == ('Point'):\n",
    "  #               continue\n",
    "\n",
    "  #           elif tip == ('MultiPolygon'):\n",
    "\n",
    "  #               if isinstance(veri,float): continue\n",
    "\n",
    "  #               kucukBinalar = (building['geometry']['coordinates'])\n",
    "  #               for b in range(len(kucukBinalar)):\n",
    "  #                   veri = kucukBinalar[b][0]\n",
    "  #                   for i in veri:\n",
    "  #                       xPixel, yPixel = RGBTIFResmi.proj_to_raster(i[0], i[1])\n",
    "  #                       xPixel = 649 if xPixel > 649 else xPixel\n",
    "  #                       yPixel = 649 if yPixel > 649 else yPixel\n",
    "  #                       coordinates.append((xPixel,yPixel))\n",
    "  #           else:\n",
    "  #               if isinstance(veri,float): continue\n",
    "\n",
    "  #               for i in veri:\n",
    "  #                   xPixel, yPixel = RGBTIFResmi.proj_to_raster(i[0], i[1])\n",
    "  #                   xPixel = 649 if xPixel > 649 else xPixel\n",
    "  #                   yPixel = 649 if yPixel > 649 else yPixel\n",
    "  #                   coordinates.append((xPixel,yPixel))\n",
    "\n",
    "  #           maske = fill_between(coordinates)\n",
    "  #           masks = np.dstack((masks,maske))\n",
    "\n",
    "  #   if masks.shape != (650,650):\n",
    "  #       masks = masks[:,:,1:]\n",
    "  #       class_ids = np.asarray([1]*masks.shape[2])\n",
    "  #   else:\n",
    "  #       class_ids=np.ones((1))\n",
    "  #       masks = masks.reshape((650,650,1))\n",
    "  #   return masks.astype(np.bool), class_ids.astype(np.int32)\n",
    "\n",
    "\n",
    "# Leverage rioxarray functionality to convert individual geometries into arrays to be stacked for use in modeling\n",
    "# cite: https://gis.stackexchange.com/a/346899\n",
    "# Output Layers borrow from Mustafa Aktas' solution (also listed above)\n",
    "# Cite: https://github.com/Mstfakts/Building-Detection-MaskRCNN/blob/master/SpaceNet_train.py\n",
    "# Modified to stack multiple masks via dstack.\n",
    "\n",
    "  def load_mask(self, image_id):\n",
    "    # load in the geojson file\n",
    "    annotations_dir = os.path.join(data_dir, 'labels/')\n",
    "    geojson_path = os.path.join(annotations_dir, \"img\"+str(image_id)+\"label_.geojson\")\n",
    "    with open(geojson_path) as igj:\n",
    "        data = json.load(igj)\n",
    "    # if GDAL 3+\n",
    "    crs = data[\"crs\"][\"properties\"][\"name\"]\n",
    "    # crs = \"EPSG:4326\" # if GDAL 2\n",
    "    buildings = [feat for feat in data[\"features\"]]\n",
    "    masks = np.zeros((650,650))\n",
    "\n",
    "    #read in rastered image file with matching id\n",
    "    img_path = os.path.join(data_dir, 'images/', 'img'+str(image_id)+'PS-RGB_.tif')\n",
    "    rds = rioxarray.open_rasterio(img_path).isel(band=0)\n",
    "    rds.values[:] = 1\n",
    "    rds.rio.write_nodata(0,inplace=True)\n",
    "\n",
    "    # Create an array to append class_ids\n",
    "    class_ids = np.array([])\n",
    "\n",
    "    #loop through buildings to extract mask information using geometry\n",
    "    for building in buildings:\n",
    "        class_id = building[\"properties\"][\"OBJECTID_1\"]\n",
    "        geom = [building[\"geometry\"]]\n",
    "\n",
    "        # clip the image via rastrio\n",
    "        try:\n",
    "            mask = rds.rio.clip(geom, crs, drop = False)\n",
    "            # print('clip')\n",
    "        except:\n",
    "            mask = rds\n",
    "            # print('noclip')\n",
    "        # print(class_id)\n",
    "        np.append(class_ids, class_id)\n",
    "        mask_ar = mask.values\n",
    "        masks = np.dstack((masks, mask_ar))\n",
    "\n",
    "    if masks.shape != (650,650):\n",
    "        masks = masks[:,:,1:]\n",
    "        class_ids = np.asarray([1]*masks.shape[2])\n",
    "    else:\n",
    "        class_ids=np.ones((1))\n",
    "        masks = masks.reshape((650,650,1))\n",
    "    return masks.astype(np.int32), class_ids.astype(np.int32)"
   ]
  },
  {
   "cell_type": "markdown",
   "metadata": {
    "id": "9WPtEwfKuggt"
   },
   "source": [
    "Training Dataset"
   ]
  },
  {
   "cell_type": "code",
   "execution_count": 11,
   "metadata": {
    "id": "y1EhjJ9Uuek7"
   },
   "outputs": [],
   "source": [
    "#segment training data\n",
    "dataset_train = SpaceNetDataset()\n",
    "dataset_train.load_dataset(data_dir, 1, 200)\n",
    "# print(dataset_train.image_info)\n",
    "dataset_train.prepare()\n",
    "# print(dataset_train.image_ids)\n",
    "\n",
    "#segment validation data\n",
    "dataset_val = SpaceNetDataset()\n",
    "dataset_val.load_dataset(data_dir, 201, 251)\n",
    "dataset_val.prepare()"
   ]
  },
  {
   "cell_type": "code",
   "execution_count": 12,
   "metadata": {
    "colab": {
     "base_uri": "https://localhost:8080/"
    },
    "id": "SptuMaX2rauY",
    "outputId": "bb3913dc-7b98-4d83-e589-c868a3cf83a4"
   },
   "outputs": [
    {
     "name": "stdout",
     "output_type": "stream",
     "text": [
      "[772, 745, 538, 981, 17, 949, 20, 699, 386, 292, 592, 42, 75, 808, 486, 199, 224, 546, 9, 213, 571, 330, 96, 452, 618, 465, 759, 246, 524, 307, 430, 271, 513, 889, 365, 352, 407, 876, 685, 118, 791, 962, 841, 955, 185, 814, 69, 823, 937, 900, 1002, 78, 926, 832, 911, 805, 973, 194, 944, 850, 780, 694, 374, 867, 416, 109, 343, 748, 421, 502, 898, 260, 474, 257, 316, 535, 202, 443, 609, 321, 87, 557, 560, 235, 819, 497, 188, 397, 53, 583, 64, 283, 688, 958, 754, 990, 529, 31, 640, 368, 122, 763, 677, 115, 884, 701, 736, 229, 4, 622, 468, 140, 177, 615, 252, 989, 530, 659, 265, 507, 424, 413, 346, 371, 552, 207, 230, 446, 324, 565, 82, 718, 159, 471, 837, 313, 923, 914, 191, 800, 691, 1007, 855, 862, 976, 785, 672, 110, 881, 28, 941, 127, 438, 645, 995, 279, 766, 610, 751, 172, 338, 627, 1, 145, 704, 56, 733, 579, 61, 908, 492, 34, 586, 849, 286, 799, 392, 383, 12, 858, 297, 788, 597, 483, 70, 25, 919, 722, 47, 568, 715, 154, 329, 163, 636, 601, 740, 777, 984]\n",
      "[268, 136, 654, 429, 39, 890, 101, 950, 967, 794, 873, 932, 680, 844, 826, 811, 905, 180, 302, 460, 335, 709, 457, 148, 574, 216, 93, 543, 435, 221, 360, 402, 648, 357, 998, 274, 516, 243, 521, 94, 573, 226, 211, 739, 544, 178, 467, 305, 450, 273]\n"
     ]
    }
   ],
   "source": [
    "print(dataset_train._image_ids)\n",
    "print(dataset_val._image_ids)"
   ]
  },
  {
   "cell_type": "code",
   "execution_count": 13,
   "metadata": {
    "colab": {
     "base_uri": "https://localhost:8080/"
    },
    "id": "jg5EsVxJRJ_K",
    "outputId": "1e367177-f1db-4e0e-c413-552721b85c83"
   },
   "outputs": [
    {
     "data": {
      "text/plain": [
       "[0, 1]"
      ]
     },
     "execution_count": 13,
     "metadata": {},
     "output_type": "execute_result"
    }
   ],
   "source": [
    "dataset_train.source_class_ids[dataset_train.image_info[0][\"source\"]]"
   ]
  },
  {
   "cell_type": "markdown",
   "metadata": {
    "id": "Xg-YDdYXFHZm"
   },
   "source": [
    "Model Timeout - Investigation"
   ]
  },
  {
   "cell_type": "code",
   "execution_count": 11,
   "metadata": {
    "id": "F2x-ekz4E-5O"
   },
   "outputs": [],
   "source": [
    "# # from mrcnn.model.py\n",
    "# from mrcnn.model import DataGenerator\n",
    "# train_dataset = dataset_train # called in the train function\n",
    "# train_generator = DataGenerator(train_dataset, config, shuffle=True,\n",
    "#                                          augmentation=None)"
   ]
  },
  {
   "cell_type": "code",
   "execution_count": 12,
   "metadata": {
    "colab": {
     "base_uri": "https://localhost:8080/"
    },
    "id": "1EjQC4iYG_xR",
    "outputId": "d796a4ce-a49f-4116-fdfd-0b2cd78a6810"
   },
   "outputs": [
    {
     "data": {
      "text/plain": [
       "array([772])"
      ]
     },
     "execution_count": 12,
     "metadata": {},
     "output_type": "execute_result"
    }
   ],
   "source": [
    "# train_generator.image_ids"
   ]
  },
  {
   "cell_type": "markdown",
   "metadata": {
    "id": "Gh9c0GmYwBVS"
   },
   "source": [
    "Load and Display Random Samples"
   ]
  },
  {
   "cell_type": "code",
   "execution_count": 14,
   "metadata": {
    "colab": {
     "base_uri": "https://localhost:8080/",
     "height": 727
    },
    "id": "yELxuQoIwGqw",
    "outputId": "84ee1b95-62b2-4722-ecfd-60a8cece3cc3"
   },
   "outputs": [
    {
     "name": "stdout",
     "output_type": "stream",
     "text": [
      "[524 958 386]\n",
      "524\n"
     ]
    },
    {
     "data": {
      "image/png": "[encoded data removed]",
      "text/plain": [
       "<Figure size 1400x500 with 5 Axes>"
      ]
     },
     "metadata": {},
     "output_type": "display_data"
    },
    {
     "name": "stdout",
     "output_type": "stream",
     "text": [
      "958\n"
     ]
    },
    {
     "data": {
      "image/png": "[encoded data removed]",
      "text/plain": [
       "<Figure size 1400x500 with 5 Axes>"
      ]
     },
     "metadata": {},
     "output_type": "display_data"
    },
    {
     "name": "stdout",
     "output_type": "stream",
     "text": [
      "386\n"
     ]
    },
    {
     "data": {
      "image/png": "[encoded data removed]",
      "text/plain": [
       "<Figure size 1400x500 with 5 Axes>"
      ]
     },
     "metadata": {},
     "output_type": "display_data"
    }
   ],
   "source": [
    "image_ids = np.random.choice(dataset_train.image_ids,3)\n",
    "print(image_ids)\n",
    "\n",
    "for image_id in image_ids:\n",
    "    print(image_id)\n",
    "    image = dataset_train.load_image(image_id)\n",
    "    mask, class_ids = dataset_train.load_mask(image_id)\n",
    "    visualize.display_top_masks(image, mask, class_ids, dataset_train.class_names)"
   ]
  },
  {
   "cell_type": "markdown",
   "metadata": {
    "id": "1W5dyOijO9y5"
   },
   "source": [
    "Create the Model in Training Mode"
   ]
  },
  {
   "cell_type": "code",
   "execution_count": 15,
   "metadata": {
    "id": "BhbmI_7kPHYJ"
   },
   "outputs": [],
   "source": [
    "model = modellib.MaskRCNN(mode = \"training\", config = config, model_dir = MODEL_DIR)\n",
    "\n",
    "# Which weights to start with?\n",
    "init_with = \"imagenet\"  # imagenet, coco, or last\n",
    "\n",
    "if init_with == \"imagenet\":\n",
    "    model.load_weights(model.get_imagenet_weights(), by_name=True)\n",
    "elif init_with == \"coco\":\n",
    "    # Load weights trained on MS COCO, but skip layers that\n",
    "    # are different due to the different number of classes\n",
    "    # See README for instructions to download the COCO weights\n",
    "    model.load_weights(COCO_MODEL_PATH, by_name=True,\n",
    "                       exclude=[\"mrcnn_class_logits\", \"mrcnn_bbox_fc\",\n",
    "                                \"mrcnn_bbox\", \"mrcnn_mask\"])\n",
    "elif init_with == \"last\":\n",
    "    # Load the last model you trained and continue training\n",
    "    model.load_weights(model.find_last(), by_name=True)"
   ]
  },
  {
   "cell_type": "markdown",
   "metadata": {
    "id": "iBXMkMvFPgpp"
   },
   "source": [
    "Training\n",
    "\n",
    "1. Completed in two stages: Freezing the backbone layers and training only the randomly initialized layers.\n",
    "1. Fine tune all layers. (not required)"
   ]
  },
  {
   "cell_type": "code",
   "execution_count": 15,
   "metadata": {
    "colab": {
     "base_uri": "https://localhost:8080/",
     "height": 1000
    },
    "id": "JPpUW7VWPfLw",
    "outputId": "2656bec7-5410-4903-8cc4-39de3eee96f7"
   },
   "outputs": [
    {
     "name": "stdout",
     "output_type": "stream",
     "text": [
      "\n",
      "Starting at epoch 0. LR=0.01\n",
      "\n",
      "Checkpoint Path: /content/drive/MyDrive/house_finder/Mask_RCNN/logs/spacenet20230727T1847/mask_rcnn_spacenet_{epoch:04d}.h5\n",
      "Selecting layers to train\n",
      "fpn_c5p5               (Conv2D)\n",
      "fpn_c4p4               (Conv2D)\n",
      "fpn_c3p3               (Conv2D)\n",
      "fpn_c2p2               (Conv2D)\n",
      "fpn_p5                 (Conv2D)\n",
      "fpn_p2                 (Conv2D)\n",
      "fpn_p3                 (Conv2D)\n",
      "fpn_p4                 (Conv2D)\n",
      "rpn_model              (Functional)\n",
      "mrcnn_mask_conv1       (TimeDistributed)\n",
      "mrcnn_mask_bn1         (TimeDistributed)\n",
      "mrcnn_mask_conv2       (TimeDistributed)\n",
      "mrcnn_mask_bn2         (TimeDistributed)\n",
      "mrcnn_class_conv1      (TimeDistributed)\n",
      "mrcnn_class_bn1        (TimeDistributed)\n",
      "mrcnn_mask_conv3       (TimeDistributed)\n",
      "mrcnn_mask_bn3         (TimeDistributed)\n",
      "mrcnn_class_conv2      (TimeDistributed)\n",
      "mrcnn_class_bn2        (TimeDistributed)\n",
      "mrcnn_mask_conv4       (TimeDistributed)\n",
      "mrcnn_mask_bn4         (TimeDistributed)\n",
      "mrcnn_bbox_fc          (TimeDistributed)\n",
      "mrcnn_mask_deconv      (TimeDistributed)\n",
      "mrcnn_class_logits     (TimeDistributed)\n",
      "mrcnn_mask             (TimeDistributed)\n"
     ]
    },
    {
     "name": "stderr",
     "output_type": "stream",
     "text": [
      "/usr/local/lib/python3.10/dist-packages/keras/optimizers/legacy/gradient_descent.py:114: UserWarning: The `lr` argument is deprecated, use `learning_rate` instead.\n",
      "  super().__init__(name, **kwargs)\n"
     ]
    },
    {
     "name": "stdout",
     "output_type": "stream",
     "text": [
      " 30/200 [===>..........................] - ETA: 48:28 - batch: 14.5000 - size: 8.0000 - loss: 39.8570 - rpn_class_loss: 3.1399 - rpn_bbox_loss: 9.4911 - mrcnn_class_loss: 13.6338 - mrcnn_bbox_loss: 13.5043 - mrcnn_mask_loss: 0.0879"
     ]
    },
    {
     "name": "stderr",
     "output_type": "stream",
     "text": [
      "Process Keras_worker_ForkPoolWorker-62:\n",
      "Traceback (most recent call last):\n",
      "Process Keras_worker_ForkPoolWorker-61:\n",
      "  File \"/usr/lib/python3.10/multiprocessing/process.py\", line 314, in _bootstrap\n",
      "    self.run()\n",
      "  File \"/usr/lib/python3.10/multiprocessing/process.py\", line 108, in run\n",
      "    self._target(*self._args, **self._kwargs)\n",
      "  File \"/usr/lib/python3.10/multiprocessing/pool.py\", line 114, in worker\n",
      "    task = get()\n",
      "  File \"/usr/lib/python3.10/multiprocessing/queues.py\", line 365, in get\n",
      "    res = self._reader.recv_bytes()\n",
      "Traceback (most recent call last):\n",
      "  File \"/usr/lib/python3.10/multiprocessing/connection.py\", line 216, in recv_bytes\n",
      "    buf = self._recv_bytes(maxlength)\n",
      "  File \"/usr/lib/python3.10/multiprocessing/process.py\", line 314, in _bootstrap\n",
      "    self.run()\n",
      "  File \"/usr/lib/python3.10/multiprocessing/connection.py\", line 414, in _recv_bytes\n",
      "    buf = self._recv(4)\n",
      "  File \"/usr/lib/python3.10/multiprocessing/connection.py\", line 379, in _recv\n",
      "    chunk = read(handle, remaining)\n",
      "  File \"/usr/lib/python3.10/multiprocessing/process.py\", line 108, in run\n",
      "    self._target(*self._args, **self._kwargs)\n",
      "  File \"/usr/lib/python3.10/multiprocessing/pool.py\", line 125, in worker\n",
      "    result = (True, func(*args, **kwds))\n",
      "KeyboardInterrupt\n",
      "  File \"/usr/local/lib/python3.10/dist-packages/keras/utils/data_utils.py\", line 647, in get_index\n",
      "    return _SHARED_SEQUENCES[uid][i]\n",
      "  File \"/content/drive/MyDrive/house_finder/Mask_RCNN/mrcnn/model.py\", line 1721, in __getitem__\n",
      "    load_image_gt(self.dataset, self.config, image_id,\n",
      "  File \"/content/drive/MyDrive/house_finder/Mask_RCNN/mrcnn/model.py\", line 1234, in load_image_gt\n",
      "    mask, class_ids = dataset.load_mask(image_id)\n",
      "  File \"<ipython-input-7-63808e30fb69>\", line 152, in load_mask\n",
      "    masks = np.dstack((masks, mask_ar))\n",
      "  File \"<__array_function__ internals>\", line 180, in dstack\n",
      "  File \"/usr/local/lib/python3.10/dist-packages/numpy/lib/shape_base.py\", line 723, in dstack\n",
      "    return _nx.concatenate(arrs, 2)\n",
      "  File \"<__array_function__ internals>\", line 180, in concatenate\n",
      "KeyboardInterrupt\n"
     ]
    },
    {
     "ename": "KeyboardInterrupt",
     "evalue": "ignored",
     "output_type": "error",
     "traceback": [
      "\u001b[0;31m---------------------------------------------------------------------------\u001b[0m",
      "\u001b[0;31mKeyboardInterrupt\u001b[0m                         Traceback (most recent call last)",
      "\u001b[0;32m<ipython-input-15-b4b83afbec5c>\u001b[0m in \u001b[0;36m<cell line: 1>\u001b[0;34m()\u001b[0m\n\u001b[0;32m----> 1\u001b[0;31m model.train(dataset_train, dataset_val,\n\u001b[0m\u001b[1;32m      2\u001b[0m             \u001b[0mlearning_rate\u001b[0m \u001b[0;34m=\u001b[0m \u001b[0mconfig\u001b[0m\u001b[0;34m.\u001b[0m\u001b[0mLEARNING_RATE\u001b[0m\u001b[0;34m,\u001b[0m\u001b[0;34m\u001b[0m\u001b[0;34m\u001b[0m\u001b[0m\n\u001b[1;32m      3\u001b[0m             \u001b[0mepochs\u001b[0m \u001b[0;34m=\u001b[0m \u001b[0;36m1\u001b[0m\u001b[0;34m,\u001b[0m\u001b[0;34m\u001b[0m\u001b[0;34m\u001b[0m\u001b[0m\n\u001b[1;32m      4\u001b[0m           layers = 'heads')\n",
      "\u001b[0;32m/content/drive/MyDrive/house_finder/Mask_RCNN/mrcnn/model.py\u001b[0m in \u001b[0;36mtrain\u001b[0;34m(self, train_dataset, val_dataset, learning_rate, epochs, layers, augmentation, custom_callbacks, no_augmentation_sources)\u001b[0m\n\u001b[1;32m   2357\u001b[0m             \u001b[0mworkers\u001b[0m \u001b[0;34m=\u001b[0m \u001b[0mmultiprocessing\u001b[0m\u001b[0;34m.\u001b[0m\u001b[0mcpu_count\u001b[0m\u001b[0;34m(\u001b[0m\u001b[0;34m)\u001b[0m\u001b[0;34m\u001b[0m\u001b[0;34m\u001b[0m\u001b[0m\n\u001b[1;32m   2358\u001b[0m \u001b[0;34m\u001b[0m\u001b[0m\n\u001b[0;32m-> 2359\u001b[0;31m         self.keras_model.fit(\n\u001b[0m\u001b[1;32m   2360\u001b[0m             \u001b[0mtrain_generator\u001b[0m\u001b[0;34m,\u001b[0m\u001b[0;34m\u001b[0m\u001b[0;34m\u001b[0m\u001b[0m\n\u001b[1;32m   2361\u001b[0m             \u001b[0minitial_epoch\u001b[0m\u001b[0;34m=\u001b[0m\u001b[0mself\u001b[0m\u001b[0;34m.\u001b[0m\u001b[0mepoch\u001b[0m\u001b[0;34m,\u001b[0m\u001b[0;34m\u001b[0m\u001b[0;34m\u001b[0m\u001b[0m\n",
      "\u001b[0;32m/usr/local/lib/python3.10/dist-packages/keras/engine/training_v1.py\u001b[0m in \u001b[0;36mfit\u001b[0;34m(self, x, y, batch_size, epochs, verbose, callbacks, validation_split, validation_data, shuffle, class_weight, sample_weight, initial_epoch, steps_per_epoch, validation_steps, validation_freq, max_queue_size, workers, use_multiprocessing, **kwargs)\u001b[0m\n\u001b[1;32m    854\u001b[0m \u001b[0;34m\u001b[0m\u001b[0m\n\u001b[1;32m    855\u001b[0m         \u001b[0mfunc\u001b[0m \u001b[0;34m=\u001b[0m \u001b[0mself\u001b[0m\u001b[0;34m.\u001b[0m\u001b[0m_select_training_loop\u001b[0m\u001b[0;34m(\u001b[0m\u001b[0mx\u001b[0m\u001b[0;34m)\u001b[0m\u001b[0;34m\u001b[0m\u001b[0;34m\u001b[0m\u001b[0m\n\u001b[0;32m--> 856\u001b[0;31m         return func.fit(\n\u001b[0m\u001b[1;32m    857\u001b[0m             \u001b[0mself\u001b[0m\u001b[0;34m,\u001b[0m\u001b[0;34m\u001b[0m\u001b[0;34m\u001b[0m\u001b[0m\n\u001b[1;32m    858\u001b[0m             \u001b[0mx\u001b[0m\u001b[0;34m=\u001b[0m\u001b[0mx\u001b[0m\u001b[0;34m,\u001b[0m\u001b[0;34m\u001b[0m\u001b[0;34m\u001b[0m\u001b[0m\n",
      "\u001b[0;32m/usr/local/lib/python3.10/dist-packages/keras/engine/training_generator_v1.py\u001b[0m in \u001b[0;36mfit\u001b[0;34m(self, model, x, y, batch_size, epochs, verbose, callbacks, validation_split, validation_data, shuffle, class_weight, sample_weight, initial_epoch, steps_per_epoch, validation_steps, validation_freq, max_queue_size, workers, use_multiprocessing)\u001b[0m\n\u001b[1;32m    645\u001b[0m             \u001b[0my\u001b[0m\u001b[0;34m,\u001b[0m \u001b[0msample_weight\u001b[0m\u001b[0;34m,\u001b[0m \u001b[0mvalidation_split\u001b[0m\u001b[0;34m=\u001b[0m\u001b[0mvalidation_split\u001b[0m\u001b[0;34m\u001b[0m\u001b[0;34m\u001b[0m\u001b[0m\n\u001b[1;32m    646\u001b[0m         )\n\u001b[0;32m--> 647\u001b[0;31m         return fit_generator(\n\u001b[0m\u001b[1;32m    648\u001b[0m             \u001b[0mmodel\u001b[0m\u001b[0;34m,\u001b[0m\u001b[0;34m\u001b[0m\u001b[0;34m\u001b[0m\u001b[0m\n\u001b[1;32m    649\u001b[0m             \u001b[0mx\u001b[0m\u001b[0;34m,\u001b[0m\u001b[0;34m\u001b[0m\u001b[0;34m\u001b[0m\u001b[0m\n",
      "\u001b[0;32m/usr/local/lib/python3.10/dist-packages/keras/engine/training_generator_v1.py\u001b[0m in \u001b[0;36mmodel_iteration\u001b[0;34m(model, data, steps_per_epoch, epochs, verbose, callbacks, validation_data, validation_steps, validation_freq, class_weight, max_queue_size, workers, use_multiprocessing, shuffle, initial_epoch, mode, batch_size, steps_name, **kwargs)\u001b[0m\n\u001b[1;32m    237\u001b[0m         \u001b[0mstep\u001b[0m \u001b[0;34m=\u001b[0m \u001b[0;36m0\u001b[0m\u001b[0;34m\u001b[0m\u001b[0;34m\u001b[0m\u001b[0m\n\u001b[1;32m    238\u001b[0m         \u001b[0;32mwhile\u001b[0m \u001b[0mstep\u001b[0m \u001b[0;34m<\u001b[0m \u001b[0mtarget_steps\u001b[0m\u001b[0;34m:\u001b[0m\u001b[0;34m\u001b[0m\u001b[0;34m\u001b[0m\u001b[0m\n\u001b[0;32m--> 239\u001b[0;31m             \u001b[0mbatch_data\u001b[0m \u001b[0;34m=\u001b[0m \u001b[0m_get_next_batch\u001b[0m\u001b[0;34m(\u001b[0m\u001b[0mgenerator\u001b[0m\u001b[0;34m)\u001b[0m\u001b[0;34m\u001b[0m\u001b[0;34m\u001b[0m\u001b[0m\n\u001b[0m\u001b[1;32m    240\u001b[0m             \u001b[0;32mif\u001b[0m \u001b[0mbatch_data\u001b[0m \u001b[0;32mis\u001b[0m \u001b[0;32mNone\u001b[0m\u001b[0;34m:\u001b[0m\u001b[0;34m\u001b[0m\u001b[0;34m\u001b[0m\u001b[0m\n\u001b[1;32m    241\u001b[0m                 \u001b[0;32mif\u001b[0m \u001b[0mis_dataset\u001b[0m\u001b[0;34m:\u001b[0m\u001b[0;34m\u001b[0m\u001b[0;34m\u001b[0m\u001b[0m\n",
      "\u001b[0;32m/usr/local/lib/python3.10/dist-packages/keras/engine/training_generator_v1.py\u001b[0m in \u001b[0;36m_get_next_batch\u001b[0;34m(generator)\u001b[0m\n\u001b[1;32m    386\u001b[0m     \u001b[0;34m\"\"\"Retrieves the next batch of input data.\"\"\"\u001b[0m\u001b[0;34m\u001b[0m\u001b[0;34m\u001b[0m\u001b[0m\n\u001b[1;32m    387\u001b[0m     \u001b[0;32mtry\u001b[0m\u001b[0;34m:\u001b[0m\u001b[0;34m\u001b[0m\u001b[0;34m\u001b[0m\u001b[0m\n\u001b[0;32m--> 388\u001b[0;31m         \u001b[0mgenerator_output\u001b[0m \u001b[0;34m=\u001b[0m \u001b[0mnext\u001b[0m\u001b[0;34m(\u001b[0m\u001b[0mgenerator\u001b[0m\u001b[0;34m)\u001b[0m\u001b[0;34m\u001b[0m\u001b[0;34m\u001b[0m\u001b[0m\n\u001b[0m\u001b[1;32m    389\u001b[0m     \u001b[0;32mexcept\u001b[0m \u001b[0;34m(\u001b[0m\u001b[0mStopIteration\u001b[0m\u001b[0;34m,\u001b[0m \u001b[0mtf\u001b[0m\u001b[0;34m.\u001b[0m\u001b[0merrors\u001b[0m\u001b[0;34m.\u001b[0m\u001b[0mOutOfRangeError\u001b[0m\u001b[0;34m)\u001b[0m\u001b[0;34m:\u001b[0m\u001b[0;34m\u001b[0m\u001b[0;34m\u001b[0m\u001b[0m\n\u001b[1;32m    390\u001b[0m         \u001b[0;32mreturn\u001b[0m \u001b[0;32mNone\u001b[0m\u001b[0;34m\u001b[0m\u001b[0;34m\u001b[0m\u001b[0m\n",
      "\u001b[0;32m/usr/local/lib/python3.10/dist-packages/keras/utils/data_utils.py\u001b[0m in \u001b[0;36mget\u001b[0;34m(self)\u001b[0m\n\u001b[1;32m    859\u001b[0m         \u001b[0;32mwhile\u001b[0m \u001b[0mself\u001b[0m\u001b[0;34m.\u001b[0m\u001b[0mis_running\u001b[0m\u001b[0;34m(\u001b[0m\u001b[0;34m)\u001b[0m\u001b[0;34m:\u001b[0m\u001b[0;34m\u001b[0m\u001b[0;34m\u001b[0m\u001b[0m\n\u001b[1;32m    860\u001b[0m             \u001b[0;32mtry\u001b[0m\u001b[0;34m:\u001b[0m\u001b[0;34m\u001b[0m\u001b[0;34m\u001b[0m\u001b[0m\n\u001b[0;32m--> 861\u001b[0;31m                 \u001b[0minputs\u001b[0m \u001b[0;34m=\u001b[0m \u001b[0mself\u001b[0m\u001b[0;34m.\u001b[0m\u001b[0mqueue\u001b[0m\u001b[0;34m.\u001b[0m\u001b[0mget\u001b[0m\u001b[0;34m(\u001b[0m\u001b[0mblock\u001b[0m\u001b[0;34m=\u001b[0m\u001b[0;32mTrue\u001b[0m\u001b[0;34m,\u001b[0m \u001b[0mtimeout\u001b[0m\u001b[0;34m=\u001b[0m\u001b[0;36m5\u001b[0m\u001b[0;34m)\u001b[0m\u001b[0;34m.\u001b[0m\u001b[0mget\u001b[0m\u001b[0;34m(\u001b[0m\u001b[0;34m)\u001b[0m\u001b[0;34m\u001b[0m\u001b[0;34m\u001b[0m\u001b[0m\n\u001b[0m\u001b[1;32m    862\u001b[0m                 \u001b[0;32mif\u001b[0m \u001b[0mself\u001b[0m\u001b[0;34m.\u001b[0m\u001b[0mis_running\u001b[0m\u001b[0;34m(\u001b[0m\u001b[0;34m)\u001b[0m\u001b[0;34m:\u001b[0m\u001b[0;34m\u001b[0m\u001b[0;34m\u001b[0m\u001b[0m\n\u001b[1;32m    863\u001b[0m                     \u001b[0mself\u001b[0m\u001b[0;34m.\u001b[0m\u001b[0mqueue\u001b[0m\u001b[0;34m.\u001b[0m\u001b[0mtask_done\u001b[0m\u001b[0;34m(\u001b[0m\u001b[0;34m)\u001b[0m\u001b[0;34m\u001b[0m\u001b[0;34m\u001b[0m\u001b[0m\n",
      "\u001b[0;32m/usr/lib/python3.10/multiprocessing/pool.py\u001b[0m in \u001b[0;36mget\u001b[0;34m(self, timeout)\u001b[0m\n\u001b[1;32m    766\u001b[0m \u001b[0;34m\u001b[0m\u001b[0m\n\u001b[1;32m    767\u001b[0m     \u001b[0;32mdef\u001b[0m \u001b[0mget\u001b[0m\u001b[0;34m(\u001b[0m\u001b[0mself\u001b[0m\u001b[0;34m,\u001b[0m \u001b[0mtimeout\u001b[0m\u001b[0;34m=\u001b[0m\u001b[0;32mNone\u001b[0m\u001b[0;34m)\u001b[0m\u001b[0;34m:\u001b[0m\u001b[0;34m\u001b[0m\u001b[0;34m\u001b[0m\u001b[0m\n\u001b[0;32m--> 768\u001b[0;31m         \u001b[0mself\u001b[0m\u001b[0;34m.\u001b[0m\u001b[0mwait\u001b[0m\u001b[0;34m(\u001b[0m\u001b[0mtimeout\u001b[0m\u001b[0;34m)\u001b[0m\u001b[0;34m\u001b[0m\u001b[0;34m\u001b[0m\u001b[0m\n\u001b[0m\u001b[1;32m    769\u001b[0m         \u001b[0;32mif\u001b[0m \u001b[0;32mnot\u001b[0m \u001b[0mself\u001b[0m\u001b[0;34m.\u001b[0m\u001b[0mready\u001b[0m\u001b[0;34m(\u001b[0m\u001b[0;34m)\u001b[0m\u001b[0;34m:\u001b[0m\u001b[0;34m\u001b[0m\u001b[0;34m\u001b[0m\u001b[0m\n\u001b[1;32m    770\u001b[0m             \u001b[0;32mraise\u001b[0m \u001b[0mTimeoutError\u001b[0m\u001b[0;34m\u001b[0m\u001b[0;34m\u001b[0m\u001b[0m\n",
      "\u001b[0;32m/usr/lib/python3.10/multiprocessing/pool.py\u001b[0m in \u001b[0;36mwait\u001b[0;34m(self, timeout)\u001b[0m\n\u001b[1;32m    763\u001b[0m \u001b[0;34m\u001b[0m\u001b[0m\n\u001b[1;32m    764\u001b[0m     \u001b[0;32mdef\u001b[0m \u001b[0mwait\u001b[0m\u001b[0;34m(\u001b[0m\u001b[0mself\u001b[0m\u001b[0;34m,\u001b[0m \u001b[0mtimeout\u001b[0m\u001b[0;34m=\u001b[0m\u001b[0;32mNone\u001b[0m\u001b[0;34m)\u001b[0m\u001b[0;34m:\u001b[0m\u001b[0;34m\u001b[0m\u001b[0;34m\u001b[0m\u001b[0m\n\u001b[0;32m--> 765\u001b[0;31m         \u001b[0mself\u001b[0m\u001b[0;34m.\u001b[0m\u001b[0m_event\u001b[0m\u001b[0;34m.\u001b[0m\u001b[0mwait\u001b[0m\u001b[0;34m(\u001b[0m\u001b[0mtimeout\u001b[0m\u001b[0;34m)\u001b[0m\u001b[0;34m\u001b[0m\u001b[0;34m\u001b[0m\u001b[0m\n\u001b[0m\u001b[1;32m    766\u001b[0m \u001b[0;34m\u001b[0m\u001b[0m\n\u001b[1;32m    767\u001b[0m     \u001b[0;32mdef\u001b[0m \u001b[0mget\u001b[0m\u001b[0;34m(\u001b[0m\u001b[0mself\u001b[0m\u001b[0;34m,\u001b[0m \u001b[0mtimeout\u001b[0m\u001b[0;34m=\u001b[0m\u001b[0;32mNone\u001b[0m\u001b[0;34m)\u001b[0m\u001b[0;34m:\u001b[0m\u001b[0;34m\u001b[0m\u001b[0;34m\u001b[0m\u001b[0m\n",
      "\u001b[0;32m/usr/lib/python3.10/threading.py\u001b[0m in \u001b[0;36mwait\u001b[0;34m(self, timeout)\u001b[0m\n\u001b[1;32m    605\u001b[0m             \u001b[0msignaled\u001b[0m \u001b[0;34m=\u001b[0m \u001b[0mself\u001b[0m\u001b[0;34m.\u001b[0m\u001b[0m_flag\u001b[0m\u001b[0;34m\u001b[0m\u001b[0;34m\u001b[0m\u001b[0m\n\u001b[1;32m    606\u001b[0m             \u001b[0;32mif\u001b[0m \u001b[0;32mnot\u001b[0m \u001b[0msignaled\u001b[0m\u001b[0;34m:\u001b[0m\u001b[0;34m\u001b[0m\u001b[0;34m\u001b[0m\u001b[0m\n\u001b[0;32m--> 607\u001b[0;31m                 \u001b[0msignaled\u001b[0m \u001b[0;34m=\u001b[0m \u001b[0mself\u001b[0m\u001b[0;34m.\u001b[0m\u001b[0m_cond\u001b[0m\u001b[0;34m.\u001b[0m\u001b[0mwait\u001b[0m\u001b[0;34m(\u001b[0m\u001b[0mtimeout\u001b[0m\u001b[0;34m)\u001b[0m\u001b[0;34m\u001b[0m\u001b[0;34m\u001b[0m\u001b[0m\n\u001b[0m\u001b[1;32m    608\u001b[0m             \u001b[0;32mreturn\u001b[0m \u001b[0msignaled\u001b[0m\u001b[0;34m\u001b[0m\u001b[0;34m\u001b[0m\u001b[0m\n\u001b[1;32m    609\u001b[0m \u001b[0;34m\u001b[0m\u001b[0m\n",
      "\u001b[0;32m/usr/lib/python3.10/threading.py\u001b[0m in \u001b[0;36mwait\u001b[0;34m(self, timeout)\u001b[0m\n\u001b[1;32m    318\u001b[0m         \u001b[0;32mtry\u001b[0m\u001b[0;34m:\u001b[0m    \u001b[0;31m# restore state no matter what (e.g., KeyboardInterrupt)\u001b[0m\u001b[0;34m\u001b[0m\u001b[0;34m\u001b[0m\u001b[0m\n\u001b[1;32m    319\u001b[0m             \u001b[0;32mif\u001b[0m \u001b[0mtimeout\u001b[0m \u001b[0;32mis\u001b[0m \u001b[0;32mNone\u001b[0m\u001b[0;34m:\u001b[0m\u001b[0;34m\u001b[0m\u001b[0;34m\u001b[0m\u001b[0m\n\u001b[0;32m--> 320\u001b[0;31m                 \u001b[0mwaiter\u001b[0m\u001b[0;34m.\u001b[0m\u001b[0macquire\u001b[0m\u001b[0;34m(\u001b[0m\u001b[0;34m)\u001b[0m\u001b[0;34m\u001b[0m\u001b[0;34m\u001b[0m\u001b[0m\n\u001b[0m\u001b[1;32m    321\u001b[0m                 \u001b[0mgotit\u001b[0m \u001b[0;34m=\u001b[0m \u001b[0;32mTrue\u001b[0m\u001b[0;34m\u001b[0m\u001b[0;34m\u001b[0m\u001b[0m\n\u001b[1;32m    322\u001b[0m             \u001b[0;32melse\u001b[0m\u001b[0;34m:\u001b[0m\u001b[0;34m\u001b[0m\u001b[0;34m\u001b[0m\u001b[0m\n",
      "\u001b[0;31mKeyboardInterrupt\u001b[0m: "
     ]
    }
   ],
   "source": [
    "model.train(dataset_train, dataset_val,\n",
    "            learning_rate = config.LEARNING_RATE,\n",
    "            epochs = 1,\n",
    "          layers = 'heads')"
   ]
  },
  {
   "cell_type": "code",
   "execution_count": null,
   "metadata": {
    "id": "_WJFOV_YneEO"
   },
   "outputs": [],
   "source": []
  },
  {
   "cell_type": "code",
   "execution_count": null,
   "metadata": {
    "id": "MVsi8rnhKPhc"
   },
   "outputs": [],
   "source": [
    "# model_path = os.path.join(MODEL_DIR, 'mask_rcnn_spacenet.h5')\n",
    "# model.keras_model.save_weights(model_path)"
   ]
  },
  {
   "cell_type": "markdown",
   "metadata": {
    "id": "plMZ4h5wOpM8"
   },
   "source": [
    "Configure Inferences"
   ]
  },
  {
   "cell_type": "code",
   "execution_count": null,
   "metadata": {
    "id": "Du_YGLqgH-Iw"
   },
   "outputs": [],
   "source": [
    "# class InferenceConfig(SpaceNetConfig):\n",
    "#   GPU_COUNT = 1\n",
    "#   IMAGES_PER_GPU = 1\n",
    "\n",
    "#   inference_config = InferenceConfig()\n",
    "\n",
    "#   model = modellib.MaskRCNN(mode = 'inference',\n",
    "#                             config = inference_config,\n",
    "#                             model_dir = MODEL_DIR)\n",
    "\n",
    "# model_path = os.path.join(MODEL_DIR, 'mask_rcnn_spacenet.h5')\n",
    "\n",
    "# print(\"Loading weights from \", model_path)\n",
    "# model.load_weights(model_path, by_name=True)"
   ]
  }
 ],
 "metadata": {
  "accelerator": "GPU",
  "colab": {
   "gpuType": "T4",
   "provenance": []
  },
  "kernelspec": {
   "display_name": "Python 3 (ipykernel)",
   "language": "python",
   "name": "python3"
  },
  "language_info": {
   "codemirror_mode": {
    "name": "ipython",
    "version": 3
   },
   "file_extension": ".py",
   "mimetype": "text/x-python",
   "name": "python",
   "nbconvert_exporter": "python",
   "pygments_lexer": "ipython3",
   "version": "3.10.9"
  }
 },
 "nbformat": 4,
 "nbformat_minor": 4
}
